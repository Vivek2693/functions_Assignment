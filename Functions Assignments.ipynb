{
 "cells": [
  {
   "cell_type": "markdown",
   "id": "03f00f24-76a6-4cc2-adfd-7384a03815fa",
   "metadata": {},
   "source": [
    "#Q1: Q1. Which keyword is used to create a function? Create a function to return a list of odd numbers in the\n",
    "range of 1 to 25."
   ]
  },
  {
   "cell_type": "raw",
   "id": "8cad9375-74bd-4540-98bb-f5365d3f3899",
   "metadata": {},
   "source": [
    "The keyword used to create a function in most programming languages, including Python, is \"def\". Here's an example of a Python function that returns a list of odd numbers in the range of 1 to 25:"
   ]
  },
  {
   "cell_type": "code",
   "execution_count": 1,
   "id": "0235c12b-57ac-4f88-8c27-bbc9374f5221",
   "metadata": {},
   "outputs": [
    {
     "name": "stdout",
     "output_type": "stream",
     "text": [
      "[1, 3, 5, 7, 9, 11, 13, 15, 17, 19, 21, 23, 25]\n"
     ]
    }
   ],
   "source": [
    "def get_odd_numbers():\n",
    "    odd_numbers = []\n",
    "    for num in range(1, 26):\n",
    "        if num % 2 != 0:\n",
    "            odd_numbers.append(num)\n",
    "    return odd_numbers\n",
    "\n",
    "print(get_odd_numbers())\n"
   ]
  },
  {
   "cell_type": "markdown",
   "id": "c045d7b3-43b6-4074-bc68-77b58a1325af",
   "metadata": {},
   "source": [
    "Q2. Why *args and **kwargs is used in some functions? Create a function each for *args and **kwargs to\n",
    "demonstrate their use."
   ]
  },
  {
   "cell_type": "code",
   "execution_count": null,
   "id": "3ca6a8ff-a96e-4c25-afb3-46fb7675a1e5",
   "metadata": {},
   "outputs": [],
   "source": [
    "In Python, *args and **kwargs are used to handle variable-length arguments in functions.\n",
    "\n",
    "*args (Non-keyworded Variable-length Arguments):\n",
    "The *args parameter allows a function to accept any number of non-keyworded arguments.\n",
    "It collects these arguments into a tuple, which can be accessed within the function.\n",
    "The asterisk (*) before args is used to unpack the arguments passed to the function.\n",
    "This is useful when you don't know in advance how many arguments will be passed to the function.\n",
    "Here's an example function that demonstrates the use of *args:"
   ]
  },
  {
   "cell_type": "code",
   "execution_count": 4,
   "id": "28678561-b6be-43fe-bd29-1b1f7be795bd",
   "metadata": {},
   "outputs": [
    {
     "name": "stdout",
     "output_type": "stream",
     "text": [
      "Hello World!\n"
     ]
    }
   ],
   "source": [
    "def concatenate_strings(*args):\n",
    "    result = \"\"\n",
    "    for arg in args:\n",
    "        result += arg\n",
    "    return result\n",
    "\n",
    "print(concatenate_strings(\"Hello\", \" \", \"World\", \"!\"))\n"
   ]
  },
  {
   "cell_type": "markdown",
   "id": "4777f34e-e39a-45d7-a1db-032ace381382",
   "metadata": {},
   "source": [
    "Q3:Q3. What is an iterator in python? Name the method used to initialise the iterator object and the method\n",
    "used for iteration. Use these methods to print the first five elements of the given list [2, 4, 6, 8, 10, 12, 14, 16,\n",
    "18, 20]."
   ]
  },
  {
   "cell_type": "code",
   "execution_count": null,
   "id": "2a46dc7c-dbc8-47a0-9400-30f434d24022",
   "metadata": {},
   "outputs": [],
   "source": [
    "In Python, an iterator is an object that allows you to traverse through a collection of elements one by one. It provides a way to access the elements sequentially without the need to know the underlying structure of the collection.\n",
    "\n",
    "To create an iterator object in Python, you can use the iter() method, and to iterate through the elements, you can use the next() method.\n",
    "\n",
    "Here's an example that demonstrates how to print the first five elements of the given list [2, 4, 6, 8, 10, 12, 14, 16, 18, 20]:"
   ]
  },
  {
   "cell_type": "code",
   "execution_count": 3,
   "id": "f0b364be-10c0-4914-bc14-af848f28384f",
   "metadata": {},
   "outputs": [
    {
     "name": "stdout",
     "output_type": "stream",
     "text": [
      "2\n",
      "4\n",
      "6\n",
      "8\n",
      "10\n"
     ]
    }
   ],
   "source": [
    "my_list = [2, 4, 6, 8, 10, 12, 14, 16, 18, 20]\n",
    "\n",
    "my_iterator = iter(my_list)\n",
    "\n",
    "for _ in range(5):\n",
    "    element = next(my_iterator)\n",
    "    print(element)\n"
   ]
  },
  {
   "cell_type": "markdown",
   "id": "6d8cb86b-1371-45c6-881a-c742217246fe",
   "metadata": {},
   "source": [
    "Q4. What is a generator function in python? Why yield keyword is used? Give an example of a generator\n",
    "function."
   ]
  },
  {
   "cell_type": "code",
   "execution_count": null,
   "id": "9f0b14e6-7247-460f-bb8e-a9151c000f32",
   "metadata": {},
   "outputs": [],
   "source": [
    "In Python, a generator function is a special type of function that generates a sequence of values instead of returning a single value. It uses the yield keyword to produce a series of values, one at a time, on each iteration.\n",
    "\n",
    "The yield keyword serves two purposes in a generator function:\n",
    "\n",
    "Suspends Execution: When a generator function encounters a yield statement, it suspends its execution and saves its internal state. The function can later be resumed from where it left off.\n",
    "\n",
    "Yields a Value: The yield keyword specifies the value to be yielded (returned) by the generator. Each time the generator function is iterated over, it produces the next value in the sequence.\n",
    "\n",
    "Here's an example of a generator function that generates a sequence of even numbers:"
   ]
  },
  {
   "cell_type": "code",
   "execution_count": 5,
   "id": "4b77efc0-29e6-4b4e-968f-a2bc82acabe7",
   "metadata": {},
   "outputs": [
    {
     "name": "stdout",
     "output_type": "stream",
     "text": [
      "0\n",
      "2\n",
      "4\n",
      "6\n",
      "8\n",
      "10\n"
     ]
    }
   ],
   "source": [
    "def even_numbers_generator(limit):\n",
    "    num = 0\n",
    "    while num <= limit:\n",
    "        yield num\n",
    "        num += 2\n",
    "\n",
    "# Create a generator object\n",
    "even_generator = even_numbers_generator(10)\n",
    "\n",
    "# Iterate over the generator and print the values\n",
    "for num in even_generator:\n",
    "    print(num)\n"
   ]
  },
  {
   "cell_type": "markdown",
   "id": "6a13a108-8483-443c-b0ae-0505ae523d2f",
   "metadata": {},
   "source": [
    "Q5. Create a generator function for prime numbers less than 1000. Use the next() method to print the\n",
    "first 20 prime numbers."
   ]
  },
  {
   "cell_type": "code",
   "execution_count": 6,
   "id": "94fdfa86-b60c-4299-bd6c-3940e1dc4f64",
   "metadata": {},
   "outputs": [
    {
     "name": "stdout",
     "output_type": "stream",
     "text": [
      "2\n",
      "3\n",
      "5\n",
      "7\n",
      "11\n",
      "13\n",
      "17\n",
      "19\n",
      "23\n",
      "29\n",
      "31\n",
      "37\n",
      "41\n",
      "43\n",
      "47\n",
      "53\n",
      "59\n",
      "61\n",
      "67\n",
      "71\n"
     ]
    }
   ],
   "source": [
    "def prime_number_generator():\n",
    "    yield 2  # The first prime number is 2\n",
    "    prime_numbers = [2]  # Store the prime numbers found so far\n",
    "    num = 3  # Start checking from 3\n",
    "\n",
    "    while num < 1000:\n",
    "        is_prime = True\n",
    "        for prime in prime_numbers:\n",
    "            if prime * prime > num:\n",
    "                break\n",
    "            if num % prime == 0:\n",
    "                is_prime = False\n",
    "                break\n",
    "        if is_prime:\n",
    "            yield num\n",
    "            prime_numbers.append(num)\n",
    "        num += 2  # Check the next odd number\n",
    "\n",
    "# Create a generator object\n",
    "prime_generator = prime_number_generator()\n",
    "\n",
    "# Print the first 20 prime numbers\n",
    "for _ in range(20):\n",
    "    prime = next(prime_generator)\n",
    "    print(prime)\n",
    "\n",
    "    "
   ]
  }
 ],
 "metadata": {
  "kernelspec": {
   "display_name": "Python 3 (ipykernel)",
   "language": "python",
   "name": "python3"
  },
  "language_info": {
   "codemirror_mode": {
    "name": "ipython",
    "version": 3
   },
   "file_extension": ".py",
   "mimetype": "text/x-python",
   "name": "python",
   "nbconvert_exporter": "python",
   "pygments_lexer": "ipython3",
   "version": "3.10.8"
  }
 },
 "nbformat": 4,
 "nbformat_minor": 5
}
